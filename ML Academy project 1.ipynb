{
  "nbformat": 4,
  "nbformat_minor": 0,
  "metadata": {
    "colab": {
      "provenance": [],
      "collapsed_sections": []
    },
    "kernelspec": {
      "name": "python3",
      "display_name": "Python 3"
    },
    "language_info": {
      "name": "python"
    }
  },
  "cells": [
    {
      "cell_type": "code",
      "execution_count": 2,
      "metadata": {
        "id": "kdVcIYLKPXk2"
      },
      "outputs": [],
      "source": [
        "#By usnig the Ml cycle:\n",
        "#Defined the problem and the object(Goal) through [MLAcademy] Project1 file ---(done))\n",
        "#The data was already collected ---(done)\n",
        "\n",
        "#Data Exploration Step: 1-import the Data 2-apply Basic statistics   3-read the Readme file \n"
      ]
    },
    {
      "cell_type": "code",
      "source": [
        "from sklearn.ensemble import GradientBoostingClassifier\n",
        "import matplotlib.pyplot as plt\n",
        "import lightgbm as lgb\n",
        "from sklearn.metrics import accuracy_score, confusion_matrix\n",
        "from sklearn import preprocessing"
      ],
      "metadata": {
        "id": "QdPcw-RcQLmY"
      },
      "execution_count": 1,
      "outputs": []
    },
    {
      "cell_type": "code",
      "source": [
        "#import the Train data \n",
        "\n",
        "import pandas as pd #To work with data through Dataframes \n",
        "\n",
        "df_client = pd.read_csv(\"/content/client_train.csv\")\n",
        "df_invoice = pd.read_csv(\"/content/invoice_train.csv\")\n",
        "df_client_test = pd.read_csv(\"/content/client_test.csv\")\n",
        "df_invoice_test =  pd.read_csv(\"/content/invoice_test.csv\")\n",
        "sam_sub=pd.read_csv(\"/SampleSubmission.csv\")"
      ],
      "metadata": {
        "id": "_yr4bBVjB5BU"
      },
      "execution_count": 37,
      "outputs": []
    },
    {
      "cell_type": "code",
      "source": [
        "print(df_client.head())"
      ],
      "metadata": {
        "id": "REOCYy2IT02O",
        "colab": {
          "base_uri": "https://localhost:8080/"
        },
        "outputId": "74701e32-ed70-4007-d439-51602bc19c2d"
      },
      "execution_count": 7,
      "outputs": [
        {
          "output_type": "stream",
          "name": "stdout",
          "text": [
            "   disrict          client_id  client_catg  region creation_date  target\n",
            "0       60     train_Client_0           11     101    31/12/1994     0.0\n",
            "1       69     train_Client_1           11     107    29/05/2002     0.0\n",
            "2       62    train_Client_10           11     301    13/03/1986     0.0\n",
            "3       69   train_Client_100           11     105    11/07/1996     0.0\n",
            "4       62  train_Client_1000           11     303    14/10/2014     0.0\n"
          ]
        }
      ]
    },
    {
      "cell_type": "code",
      "source": [
        "print(df_client.info())"
      ],
      "metadata": {
        "id": "BN7_TRnTQVvD",
        "colab": {
          "base_uri": "https://localhost:8080/"
        },
        "outputId": "e4d9f1ff-59c0-4f27-965d-79a9206eace7"
      },
      "execution_count": 8,
      "outputs": [
        {
          "output_type": "stream",
          "name": "stdout",
          "text": [
            "<class 'pandas.core.frame.DataFrame'>\n",
            "RangeIndex: 135493 entries, 0 to 135492\n",
            "Data columns (total 6 columns):\n",
            " #   Column         Non-Null Count   Dtype  \n",
            "---  ------         --------------   -----  \n",
            " 0   disrict        135493 non-null  int64  \n",
            " 1   client_id      135493 non-null  object \n",
            " 2   client_catg    135493 non-null  int64  \n",
            " 3   region         135493 non-null  int64  \n",
            " 4   creation_date  135493 non-null  object \n",
            " 5   target         135493 non-null  float64\n",
            "dtypes: float64(1), int64(3), object(2)\n",
            "memory usage: 6.2+ MB\n",
            "None\n"
          ]
        }
      ]
    },
    {
      "cell_type": "code",
      "source": [
        "print(df_client.describe())"
      ],
      "metadata": {
        "id": "e1_LE6xPTopX",
        "colab": {
          "base_uri": "https://localhost:8080/"
        },
        "outputId": "1c722959-aeee-40bc-9788-740c1a2b0eb0"
      },
      "execution_count": 9,
      "outputs": [
        {
          "output_type": "stream",
          "name": "stdout",
          "text": [
            "             disrict    client_catg         region         target\n",
            "count  135493.000000  135493.000000  135493.000000  135493.000000\n",
            "mean       63.511222      11.512506     206.159809       0.055841\n",
            "std         3.354400       4.423761     104.207044       0.229614\n",
            "min        60.000000      11.000000     101.000000       0.000000\n",
            "25%        62.000000      11.000000     103.000000       0.000000\n",
            "50%        62.000000      11.000000     107.000000       0.000000\n",
            "75%        69.000000      11.000000     307.000000       0.000000\n",
            "max        69.000000      51.000000     399.000000       1.000000\n"
          ]
        }
      ]
    },
    {
      "cell_type": "code",
      "source": [
        "print(df_invoice.head())"
      ],
      "metadata": {
        "id": "x5uBLvAETt8p",
        "colab": {
          "base_uri": "https://localhost:8080/"
        },
        "outputId": "e764508c-adff-4237-be48-8ac3a3cfce76"
      },
      "execution_count": 10,
      "outputs": [
        {
          "output_type": "stream",
          "name": "stdout",
          "text": [
            "        client_id invoice_date  tarif_type  counter_number  counter_statue  \\\n",
            "0  train_Client_0   2014-03-24        11.0       1335667.0             0.0   \n",
            "1  train_Client_0   2013-03-29        11.0       1335667.0             0.0   \n",
            "2  train_Client_0   2015-03-23        11.0       1335667.0             0.0   \n",
            "3  train_Client_0   2015-07-13        11.0       1335667.0             0.0   \n",
            "4  train_Client_0   2016-11-17        11.0       1335667.0             0.0   \n",
            "\n",
            "   counter_code  reading_remarque  counter_coefficient  consommation_level_1  \\\n",
            "0         203.0               8.0                  1.0                  82.0   \n",
            "1         203.0               6.0                  1.0                1200.0   \n",
            "2         203.0               8.0                  1.0                 123.0   \n",
            "3         207.0               8.0                  1.0                 102.0   \n",
            "4         207.0               9.0                  1.0                 572.0   \n",
            "\n",
            "   consommation_level_2  consommation_level_3  consommation_level_4  \\\n",
            "0                   0.0                   0.0                   0.0   \n",
            "1                 184.0                   0.0                   0.0   \n",
            "2                   0.0                   0.0                   0.0   \n",
            "3                   0.0                   0.0                   0.0   \n",
            "4                   0.0                   0.0                   0.0   \n",
            "\n",
            "   old_index  new_index  months_number counter_type  \n",
            "0    14302.0    14384.0            4.0         ELEC  \n",
            "1    12294.0    13678.0            4.0         ELEC  \n",
            "2    14624.0    14747.0            4.0         ELEC  \n",
            "3    14747.0    14849.0            4.0         ELEC  \n",
            "4    15066.0    15638.0           12.0         ELEC  \n"
          ]
        }
      ]
    },
    {
      "cell_type": "code",
      "source": [
        "print(df_invoice.info(show_counts= True))"
      ],
      "metadata": {
        "id": "XkSs1GzvVDby",
        "colab": {
          "base_uri": "https://localhost:8080/"
        },
        "outputId": "8ceb2282-de4b-4cff-be96-52428bda3123"
      },
      "execution_count": 11,
      "outputs": [
        {
          "output_type": "stream",
          "name": "stdout",
          "text": [
            "<class 'pandas.core.frame.DataFrame'>\n",
            "RangeIndex: 337914 entries, 0 to 337913\n",
            "Data columns (total 16 columns):\n",
            " #   Column                Non-Null Count   Dtype  \n",
            "---  ------                --------------   -----  \n",
            " 0   client_id             337914 non-null  object \n",
            " 1   invoice_date          337913 non-null  object \n",
            " 2   tarif_type            337913 non-null  float64\n",
            " 3   counter_number        337913 non-null  float64\n",
            " 4   counter_statue        337913 non-null  float64\n",
            " 5   counter_code          337913 non-null  float64\n",
            " 6   reading_remarque      337913 non-null  float64\n",
            " 7   counter_coefficient   337913 non-null  float64\n",
            " 8   consommation_level_1  337913 non-null  float64\n",
            " 9   consommation_level_2  337913 non-null  float64\n",
            " 10  consommation_level_3  337913 non-null  float64\n",
            " 11  consommation_level_4  337913 non-null  float64\n",
            " 12  old_index             337913 non-null  float64\n",
            " 13  new_index             337913 non-null  float64\n",
            " 14  months_number         337913 non-null  float64\n",
            " 15  counter_type          337913 non-null  object \n",
            "dtypes: float64(13), object(3)\n",
            "memory usage: 41.2+ MB\n",
            "None\n"
          ]
        }
      ]
    },
    {
      "cell_type": "code",
      "source": [
        "print(df_invoice.describe())"
      ],
      "metadata": {
        "id": "-FkGIoJqVDiU",
        "colab": {
          "base_uri": "https://localhost:8080/"
        },
        "outputId": "59b0b5ef-4b0a-4492-a882-ff32e0df0498"
      },
      "execution_count": 12,
      "outputs": [
        {
          "output_type": "stream",
          "name": "stdout",
          "text": [
            "          tarif_type  counter_number  counter_statue   counter_code  \\\n",
            "count  337913.000000    3.379130e+05   337913.000000  337913.000000   \n",
            "mean       20.145120    1.109861e+11        0.041203     171.533791   \n",
            "std        13.471158    1.567999e+12        0.370604     133.023474   \n",
            "min         8.000000    0.000000e+00        0.000000       5.000000   \n",
            "25%        11.000000    1.223370e+05        0.000000       5.000000   \n",
            "50%        11.000000    4.947620e+05        0.000000     203.000000   \n",
            "75%        40.000000    1.137075e+06        0.000000     207.000000   \n",
            "max        45.000000    2.738110e+13        5.000000     600.000000   \n",
            "\n",
            "       reading_remarque  counter_coefficient  consommation_level_1  \\\n",
            "count     337913.000000        337913.000000         337913.000000   \n",
            "mean           7.311409             1.000024            403.490203   \n",
            "std            1.359869             0.016138            575.599866   \n",
            "min            6.000000             0.000000              0.000000   \n",
            "25%            6.000000             1.000000             78.000000   \n",
            "50%            6.000000             1.000000            269.000000   \n",
            "75%            9.000000             1.000000            598.000000   \n",
            "max            9.000000            10.000000          93385.000000   \n",
            "\n",
            "       consommation_level_2  consommation_level_3  consommation_level_4  \\\n",
            "count         337913.000000         337913.000000         337913.000000   \n",
            "mean             109.262118             20.147360             55.462779   \n",
            "std              930.363197            218.640376           1211.206858   \n",
            "min                0.000000              0.000000              0.000000   \n",
            "25%                0.000000              0.000000              0.000000   \n",
            "50%                0.000000              0.000000              0.000000   \n",
            "75%                0.000000              0.000000              0.000000   \n",
            "max           209952.000000          45360.000000         343568.000000   \n",
            "\n",
            "          old_index     new_index  months_number  \n",
            "count  3.379130e+05  3.379130e+05  337913.000000  \n",
            "mean   1.763160e+04  1.818030e+04      21.409218  \n",
            "std    4.464302e+04  4.526139e+04     924.855277  \n",
            "min    0.000000e+00  0.000000e+00       1.000000  \n",
            "25%    1.763000e+03  2.030000e+03       4.000000  \n",
            "50%    7.510000e+03  8.003000e+03       4.000000  \n",
            "75%    2.129100e+04  2.197400e+04       4.000000  \n",
            "max    2.800280e+06  2.870972e+06   99104.000000  \n"
          ]
        }
      ]
    },
    {
      "cell_type": "code",
      "source": [
        "#After analyzing the data ,found that: \n",
        "  #client data has (client_id - creation_date) are Objects\n",
        "  #client data has the dependent value (target)\n",
        "  #invoice data has (client_id - invoice_date - counter_statue - counter_type) are Objects\n",
        "\n",
        "#Merge the data in one dataframe (df)\n",
        "df = pd.merge(df_client,df_invoice , on=\"client_id\")\n",
        "df_test = pd.merge(df_client_test,df_invoice_test , on=\"client_id\")\n",
        "print(df.info(show_counts=True))"
      ],
      "metadata": {
        "id": "FyBuKtffVDo2",
        "colab": {
          "base_uri": "https://localhost:8080/"
        },
        "outputId": "183fae98-a751-444d-955d-9dc24b20e65e"
      },
      "execution_count": 13,
      "outputs": [
        {
          "output_type": "stream",
          "name": "stdout",
          "text": [
            "<class 'pandas.core.frame.DataFrame'>\n",
            "Int64Index: 337914 entries, 0 to 337913\n",
            "Data columns (total 21 columns):\n",
            " #   Column                Non-Null Count   Dtype  \n",
            "---  ------                --------------   -----  \n",
            " 0   disrict               337914 non-null  int64  \n",
            " 1   client_id             337914 non-null  object \n",
            " 2   client_catg           337914 non-null  int64  \n",
            " 3   region                337914 non-null  int64  \n",
            " 4   creation_date         337914 non-null  object \n",
            " 5   target                337914 non-null  float64\n",
            " 6   invoice_date          337913 non-null  object \n",
            " 7   tarif_type            337913 non-null  float64\n",
            " 8   counter_number        337913 non-null  float64\n",
            " 9   counter_statue        337913 non-null  float64\n",
            " 10  counter_code          337913 non-null  float64\n",
            " 11  reading_remarque      337913 non-null  float64\n",
            " 12  counter_coefficient   337913 non-null  float64\n",
            " 13  consommation_level_1  337913 non-null  float64\n",
            " 14  consommation_level_2  337913 non-null  float64\n",
            " 15  consommation_level_3  337913 non-null  float64\n",
            " 16  consommation_level_4  337913 non-null  float64\n",
            " 17  old_index             337913 non-null  float64\n",
            " 18  new_index             337913 non-null  float64\n",
            " 19  months_number         337913 non-null  float64\n",
            " 20  counter_type          337913 non-null  object \n",
            "dtypes: float64(14), int64(3), object(4)\n",
            "memory usage: 56.7+ MB\n",
            "None\n"
          ]
        }
      ]
    },
    {
      "cell_type": "code",
      "source": [
        "# Decide which categorical variables you want to use in model\n",
        "for col_name in df_client.columns:\n",
        "    if df_client[col_name].dtypes == 'object':\n",
        "        unique_cat = len(df_client[col_name].unique())\n",
        "        print(\"Feature '{col_name}' has {unique_cat} unique categories\".format(col_name=col_name, unique_cat=unique_cat))"
      ],
      "metadata": {
        "id": "8KYI0iiw9HT6",
        "colab": {
          "base_uri": "https://localhost:8080/"
        },
        "outputId": "c18ccd4e-b65d-4cd3-a0db-1a894083b56f"
      },
      "execution_count": 14,
      "outputs": [
        {
          "output_type": "stream",
          "name": "stdout",
          "text": [
            "Feature 'client_id' has 135493 unique categories\n",
            "Feature 'creation_date' has 8088 unique categories\n"
          ]
        }
      ]
    },
    {
      "cell_type": "code",
      "source": [
        "# Decide which categorical variables you want to use in model\n",
        "for col_name in df_invoice.columns:\n",
        "    if df_invoice[col_name].dtypes == 'object':\n",
        "        unique_cat = len(df_invoice[col_name].unique())\n",
        "        print(\"Feature '{col_name}' has {unique_cat} unique categories\".format(col_name=col_name, unique_cat=unique_cat))"
      ],
      "metadata": {
        "id": "7xUPXyUq9HnG",
        "colab": {
          "base_uri": "https://localhost:8080/"
        },
        "outputId": "c5ae0948-a7d8-4808-9f50-52bf98b12291"
      },
      "execution_count": 15,
      "outputs": [
        {
          "output_type": "stream",
          "name": "stdout",
          "text": [
            "Feature 'client_id' has 10109 unique categories\n",
            "Feature 'invoice_date' has 4447 unique categories\n",
            "Feature 'counter_type' has 3 unique categories\n"
          ]
        }
      ]
    },
    {
      "cell_type": "code",
      "source": [
        "ds = df_client.groupby(['target'])['client_id'].count()\n",
        "plt.bar(x=ds.index, height=ds.values, tick_label =[0,1])\n",
        "plt.title('target distribution')\n",
        "plt.show()"
      ],
      "metadata": {
        "id": "i_Fw6-pS9T7c",
        "colab": {
          "base_uri": "https://localhost:8080/",
          "height": 281
        },
        "outputId": "444d2a4d-b3b1-4dae-ed8f-281060f0847b"
      },
      "execution_count": 16,
      "outputs": [
        {
          "output_type": "display_data",
          "data": {
            "text/plain": [
              "<Figure size 432x288 with 1 Axes>"
            ],
            "image/png": "[encoded data removed]"
          },
          "metadata": {
            "needs_background": "light"
          }
        }
      ]
    },
    {
      "cell_type": "code",
      "source": [
        "for col in ['disrict','region','client_catg']:\n",
        "    ds = df_client.groupby([col])['client_id'].count()\n",
        "    plt.bar(x=ds.index, height=ds.values)\n",
        "    plt.title(col+' distribution')\n",
        "    plt.show()"
      ],
      "metadata": {
        "id": "9_xOSZ-e9T7d",
        "colab": {
          "base_uri": "https://localhost:8080/",
          "height": 809
        },
        "outputId": "d90275e2-b5e2-4f40-ac9d-5688d594c1b4"
      },
      "execution_count": 17,
      "outputs": [
        {
          "output_type": "display_data",
          "data": {
            "text/plain": [
              "<Figure size 432x288 with 1 Axes>"
            ],
            "image/png": "[encoded data removed]"
          },
          "metadata": {
            "needs_background": "light"
          }
        },
        {
          "output_type": "display_data",
          "data": {
            "text/plain": [
              "<Figure size 432x288 with 1 Axes>"
            ],
            "image/png": "[encoded data removed]"
          },
          "metadata": {
            "needs_background": "light"
          }
        },
        {
          "output_type": "display_data",
          "data": {
            "text/plain": [
              "<Figure size 432x288 with 1 Axes>"
            ],
            "image/png": "[encoded data removed]"
          },
          "metadata": {
            "needs_background": "light"
          }
        }
      ]
    },
    {
      "cell_type": "code",
      "source": [
        "f = plt.figure(figsize=(19, 15))\n",
        "plt.matshow(df.corr(), fignum=f.number)\n",
        "plt.xticks(range(df.select_dtypes(['number']).shape[1]), df.select_dtypes(['number']).columns, fontsize=14, rotation=45)\n",
        "plt.yticks(range(df.select_dtypes(['number']).shape[1]), df.select_dtypes(['number']).columns, fontsize=14)\n",
        "cb = plt.colorbar()\n",
        "cb.ax.tick_params(labelsize=14)\n",
        "plt.title('Correlation Matrix', fontsize=16);\n"
      ],
      "metadata": {
        "id": "l11nzhjg95vR",
        "colab": {
          "base_uri": "https://localhost:8080/",
          "height": 921
        },
        "outputId": "c861becc-40b9-4a5b-96fb-4f3db1946fed"
      },
      "execution_count": 18,
      "outputs": [
        {
          "output_type": "display_data",
          "data": {
            "text/plain": [
              "<Figure size 1368x1080 with 2 Axes>"
            ],
            "image/png": "[encoded data removed]"
          },
          "metadata": {
            "needs_background": "light"
          }
        }
      ]
    },
    {
      "cell_type": "code",
      "source": [
        "#No missing values.So, prepare the dtype.\n",
        "\n",
        "#client_id\n",
        "from sklearn.preprocessing import OrdinalEncoder\n",
        "ord_enc = OrdinalEncoder()\n",
        "df[\"client_id\"] = ord_enc.fit_transform(df[[\"client_id\"]])\n",
        "df_test[\"client_id\"] = ord_enc.fit_transform(df_test[[\"client_id\"]])"
      ],
      "metadata": {
        "id": "BfDreZQbXyM8"
      },
      "execution_count": 19,
      "outputs": []
    },
    {
      "cell_type": "code",
      "source": [
        "#counter_type\n",
        "O_E_M_T={'ELEC':0,\"GAZ\":1}\n",
        "df['counter_type']=df[\"counter_type\"].replace(O_E_M_T)\n",
        "df_test['counter_type']=df_test[\"counter_type\"].replace(O_E_M_T)\n",
        "pd.to_numeric(df['counter_type'])\n",
        "pd.to_numeric(df_test['counter_type'])\n",
        "\n",
        "print(df['counter_type'].value_counts())"
      ],
      "metadata": {
        "id": "OvoE9knxXygX",
        "colab": {
          "base_uri": "https://localhost:8080/"
        },
        "outputId": "ba9c9407-5c2e-43af-a1a8-c39643071713"
      },
      "execution_count": 20,
      "outputs": [
        {
          "output_type": "stream",
          "name": "stdout",
          "text": [
            "0.0    232199\n",
            "1.0    105714\n",
            "Name: counter_type, dtype: int64\n"
          ]
        }
      ]
    },
    {
      "cell_type": "code",
      "source": [
        "#counter_statue\n",
        "O_E_M_S={'A':6,'0':0,'1':1,'5':5,'4':4}\n",
        "df['counter_statue']=df[\"counter_statue\"].replace(O_E_M_S)\n",
        "df_test['counter_statue']=df_test[\"counter_statue\"].replace(O_E_M_S)\n",
        "\n",
        "print(df['counter_statue'].value_counts())"
      ],
      "metadata": {
        "id": "2PRk5FTzXyke",
        "colab": {
          "base_uri": "https://localhost:8080/"
        },
        "outputId": "ade5c96f-87d4-4ad7-9bff-706111ca1447"
      },
      "execution_count": 21,
      "outputs": [
        {
          "output_type": "stream",
          "name": "stdout",
          "text": [
            "0.0    330735\n",
            "1.0      5431\n",
            "5.0      1532\n",
            "4.0       192\n",
            "3.0        18\n",
            "2.0         5\n",
            "Name: counter_statue, dtype: int64\n"
          ]
        }
      ]
    },
    {
      "cell_type": "code",
      "source": [
        "#invoice_date\n",
        "df['invoice_date']=pd.to_datetime(df['invoice_date'])\n",
        "df['day'] = df['invoice_date'].dt.day\n",
        "df['month'] = df['invoice_date'].dt.month\n",
        "df['year'] = df['invoice_date'].dt.year\n",
        "df['invoice_date']=df['day']+df['month']*100+df['year']*10000\n",
        "df=df.drop(['day','month','year'],axis=1)\n",
        "\n",
        "df_test['invoice_date']=pd.to_datetime(df_test['invoice_date'])\n",
        "df_test['day'] = df_test['invoice_date'].dt.day\n",
        "df_test['month'] = df_test['invoice_date'].dt.month\n",
        "df_test['year'] = df_test['invoice_date'].dt.year\n",
        "df_test['invoice_date']=df_test['day']+df_test['month']*100+df_test['year']*10000\n",
        "df_test=df_test.drop(['day','month','year'],axis=1)"
      ],
      "metadata": {
        "id": "JrQ0lfjWXyoa"
      },
      "execution_count": 22,
      "outputs": []
    },
    {
      "cell_type": "code",
      "source": [
        "#creation_date\n",
        "df['creation_date']=pd.to_datetime(df['creation_date'])\n",
        "df['day'] = df['creation_date'].dt.day\n",
        "df['month'] = df['creation_date'].dt.month\n",
        "df['year'] = df['creation_date'].dt.year\n",
        "df['creation_date']=df['day']+df['month']*100+df['year']*10000\n",
        "df=df.drop(['day','month','year'],axis=1)\n",
        "\n",
        "\n",
        "df_test['creation_date']=pd.to_datetime(df_test['creation_date'])\n",
        "df_test['day'] = df_test['creation_date'].dt.day\n",
        "df_test['month'] = df_test['creation_date'].dt.month\n",
        "df_test['year'] = df_test['creation_date'].dt.year\n",
        "df_test['creation_date']=df_test['day']+df_test['month']*100+df_test['year']*10000\n",
        "df_test=df_test.drop(['day','month','year'],axis=1)"
      ],
      "metadata": {
        "id": "81KCekwfcdyr"
      },
      "execution_count": 23,
      "outputs": []
    },
    {
      "cell_type": "code",
      "source": [
        "print(df['invoice_date'])"
      ],
      "metadata": {
        "id": "I2mOMO2xmaIG",
        "colab": {
          "base_uri": "https://localhost:8080/"
        },
        "outputId": "4b55bec0-2564-49a3-f005-522379e212d4"
      },
      "execution_count": 24,
      "outputs": [
        {
          "output_type": "stream",
          "name": "stdout",
          "text": [
            "0         20140324.0\n",
            "1         20130329.0\n",
            "2         20150323.0\n",
            "3         20150713.0\n",
            "4         20161117.0\n",
            "             ...    \n",
            "337909    20080412.0\n",
            "337910    20110804.0\n",
            "337911    20070808.0\n",
            "337912    20120612.0\n",
            "337913    20130304.0\n",
            "Name: invoice_date, Length: 337914, dtype: float64\n"
          ]
        }
      ]
    },
    {
      "cell_type": "markdown",
      "source": [],
      "metadata": {
        "id": "KxXnp1_hei0T"
      }
    },
    {
      "cell_type": "markdown",
      "source": [
        "\n",
        "So, We will do second phase (modeling phase).\n",
        "\n",
        "**First**, We can say that we use Supervised Learning.\n",
        "Algorithms & Regression and Gradient Boosting algorithms.\n",
        "    \n",
        "    Supervised:Label data.    \n",
        "    Regration : Represent data as aline.\n",
        "\n",
        "**Second**, Our problem is building a model that will help *classify* **which customer**  is likely to commit *fraud* and by\n",
        "that ***saving the company from making losses***.\n",
        "\n",
        "Third, We need to define Tasks To\n",
        "\n",
        "\n",
        "1.   List item\n",
        "2.   List item\n",
        "\n",
        "\n",
        "\n"
      ],
      "metadata": {
        "id": "ybwdv7cGOO5w"
      }
    },
    {
      "cell_type": "code",
      "source": [
        "# Decide which categorical variables you want to use in model\n",
        "for col_name in df_client.columns:\n",
        "    if df_client[col_name].dtypes == 'object':\n",
        "        unique_cat = len(df_client[col_name].unique())\n",
        "        print(\"Feature '{col_name}' has {unique_cat} unique categories\".format(col_name=col_name, unique_cat=unique_cat))"
      ],
      "metadata": {
        "id": "h2cXLwL8IKVR",
        "colab": {
          "base_uri": "https://localhost:8080/"
        },
        "outputId": "f9e413ec-44c4-4430-f69f-74762b1a7de0"
      },
      "execution_count": 25,
      "outputs": [
        {
          "output_type": "stream",
          "name": "stdout",
          "text": [
            "Feature 'client_id' has 135493 unique categories\n",
            "Feature 'creation_date' has 8088 unique categories\n"
          ]
        }
      ]
    },
    {
      "cell_type": "code",
      "source": [
        "# Decide which categorical variables you want to use in model\n",
        "for col_name in df_invoice.columns:\n",
        "    if df_invoice[col_name].dtypes == 'object':\n",
        "        unique_cat = len(df_invoice[col_name].unique())\n",
        "        print(\"Feature '{col_name}' has {unique_cat} unique categories\".format(col_name=col_name, unique_cat=unique_cat))"
      ],
      "metadata": {
        "id": "Ej3NId6AZuMe",
        "colab": {
          "base_uri": "https://localhost:8080/"
        },
        "outputId": "c0f657da-7035-4d39-898e-3d72bd492207"
      },
      "execution_count": 26,
      "outputs": [
        {
          "output_type": "stream",
          "name": "stdout",
          "text": [
            "Feature 'client_id' has 10109 unique categories\n",
            "Feature 'invoice_date' has 4447 unique categories\n",
            "Feature 'counter_type' has 3 unique categories\n"
          ]
        }
      ]
    },
    {
      "cell_type": "markdown",
      "source": [
        "Modelling by LightGBM"
      ],
      "metadata": {
        "id": "hB1ut8QNZAx6"
      }
    },
    {
      "cell_type": "code",
      "source": [
        "import lightgbm\n",
        "from lightgbm import LGBMClassifier\n",
        "model = LGBMClassifier(boosting_type='gbdt',num_iteration=500, silent=True)\n",
        "\n",
        "# Separating the independent and target variable on both data set\n",
        "x_train = df.drop(columns =['target'], axis = 1)\n",
        "y_train = df['target']\n",
        "x_test = df_test\n",
        "\n",
        "#Fit to training data\n",
        "%time model.fit(x_train,y_train)"
      ],
      "metadata": {
        "id": "VerCQgK50mCt",
        "colab": {
          "base_uri": "https://localhost:8080/"
        },
        "outputId": "91ed2c43-40d4-423b-cc52-69ebe1cdb683"
      },
      "execution_count": 27,
      "outputs": [
        {
          "output_type": "stream",
          "name": "stderr",
          "text": [
            "/usr/local/lib/python3.7/dist-packages/lightgbm/engine.py:118: UserWarning: Found `num_iteration` in params. Will use it instead of argument\n",
            "  warnings.warn(\"Found `{}` in params. Will use it instead of argument\".format(alias))\n"
          ]
        },
        {
          "output_type": "stream",
          "name": "stdout",
          "text": [
            "CPU times: user 35 s, sys: 185 ms, total: 35.2 s\n",
            "Wall time: 19.7 s\n"
          ]
        },
        {
          "output_type": "execute_result",
          "data": {
            "text/plain": [
              "LGBMClassifier(num_iteration=500)"
            ]
          },
          "metadata": {},
          "execution_count": 27
        }
      ]
    },
    {
      "cell_type": "code",
      "source": [
        "preds = model.predict_proba(x_test)"
      ],
      "metadata": {
        "id": "uM7eCar7hHv9"
      },
      "execution_count": 28,
      "outputs": []
    },
    {
      "cell_type": "code",
      "source": [
        "preds = pd.DataFrame(preds)"
      ],
      "metadata": {
        "id": "smmQqxNnhbKP"
      },
      "execution_count": 29,
      "outputs": []
    },
    {
      "cell_type": "code",
      "source": [
        "preds.head()"
      ],
      "metadata": {
        "id": "iVi0FTUphch-",
        "colab": {
          "base_uri": "https://localhost:8080/",
          "height": 206
        },
        "outputId": "366bade6-b2d9-4577-b591-dda8b9d6e1fd"
      },
      "execution_count": 30,
      "outputs": [
        {
          "output_type": "execute_result",
          "data": {
            "text/plain": [
              "          0         1\n",
              "0  0.996962  0.003038\n",
              "1  0.996047  0.003953\n",
              "2  0.995659  0.004341\n",
              "3  0.996405  0.003595\n",
              "4  0.996669  0.003331"
            ],
            "text/html": [
              "\n",
              "  <div id=\"df-cc2b84d3-1a7a-4051-81ec-a6846537d7d2\">\n",
              "    <div class=\"colab-df-container\">\n",
              "      <div>\n",
              "<style scoped>\n",
              "    .dataframe tbody tr th:only-of-type {\n",
              "        vertical-align: middle;\n",
              "    }\n",
              "\n",
              "    .dataframe tbody tr th {\n",
              "        vertical-align: top;\n",
              "    }\n",
              "\n",
              "    .dataframe thead th {\n",
              "        text-align: right;\n",
              "    }\n",
              "</style>\n",
              "<table border=\"1\" class=\"dataframe\">\n",
              "  <thead>\n",
              "    <tr style=\"text-align: right;\">\n",
              "      <th></th>\n",
              "      <th>0</th>\n",
              "      <th>1</th>\n",
              "    </tr>\n",
              "  </thead>\n",
              "  <tbody>\n",
              "    <tr>\n",
              "      <th>0</th>\n",
              "      <td>0.996962</td>\n",
              "      <td>0.003038</td>\n",
              "    </tr>\n",
              "    <tr>\n",
              "      <th>1</th>\n",
              "      <td>0.996047</td>\n",
              "      <td>0.003953</td>\n",
              "    </tr>\n",
              "    <tr>\n",
              "      <th>2</th>\n",
              "      <td>0.995659</td>\n",
              "      <td>0.004341</td>\n",
              "    </tr>\n",
              "    <tr>\n",
              "      <th>3</th>\n",
              "      <td>0.996405</td>\n",
              "      <td>0.003595</td>\n",
              "    </tr>\n",
              "    <tr>\n",
              "      <th>4</th>\n",
              "      <td>0.996669</td>\n",
              "      <td>0.003331</td>\n",
              "    </tr>\n",
              "  </tbody>\n",
              "</table>\n",
              "</div>\n",
              "      <button class=\"colab-df-convert\" onclick=\"convertToInteractive('df-cc2b84d3-1a7a-4051-81ec-a6846537d7d2')\"\n",
              "              title=\"Convert this dataframe to an interactive table.\"\n",
              "              style=\"display:none;\">\n",
              "        \n",
              "  <svg xmlns=\"http://www.w3.org/2000/svg\" height=\"24px\"viewBox=\"0 0 24 24\"\n",
              "       width=\"24px\">\n",
              "    <path d=\"M0 0h24v24H0V0z\" fill=\"none\"/>\n",
              "    <path d=\"M18.56 5.44l.94 2.06.94-2.06 2.06-.94-2.06-.94-.94-2.06-.94 2.06-2.06.94zm-11 1L8.5 8.5l.94-2.06 2.06-.94-2.06-.94L8.5 2.5l-.94 2.06-2.06.94zm10 10l.94 2.06.94-2.06 2.06-.94-2.06-.94-.94-2.06-.94 2.06-2.06.94z\"/><path d=\"M17.41 7.96l-1.37-1.37c-.4-.4-.92-.59-1.43-.59-.52 0-1.04.2-1.43.59L10.3 9.45l-7.72 7.72c-.78.78-.78 2.05 0 2.83L4 21.41c.39.39.9.59 1.41.59.51 0 1.02-.2 1.41-.59l7.78-7.78 2.81-2.81c.8-.78.8-2.07 0-2.86zM5.41 20L4 18.59l7.72-7.72 1.47 1.35L5.41 20z\"/>\n",
              "  </svg>\n",
              "      </button>\n",
              "      \n",
              "  <style>\n",
              "    .colab-df-container {\n",
              "      display:flex;\n",
              "      flex-wrap:wrap;\n",
              "      gap: 12px;\n",
              "    }\n",
              "\n",
              "    .colab-df-convert {\n",
              "      background-color: #E8F0FE;\n",
              "      border: none;\n",
              "      border-radius: 50%;\n",
              "      cursor: pointer;\n",
              "      display: none;\n",
              "      fill: #1967D2;\n",
              "      height: 32px;\n",
              "      padding: 0 0 0 0;\n",
              "      width: 32px;\n",
              "    }\n",
              "\n",
              "    .colab-df-convert:hover {\n",
              "      background-color: #E2EBFA;\n",
              "      box-shadow: 0px 1px 2px rgba(60, 64, 67, 0.3), 0px 1px 3px 1px rgba(60, 64, 67, 0.15);\n",
              "      fill: #174EA6;\n",
              "    }\n",
              "\n",
              "    [theme=dark] .colab-df-convert {\n",
              "      background-color: #3B4455;\n",
              "      fill: #D2E3FC;\n",
              "    }\n",
              "\n",
              "    [theme=dark] .colab-df-convert:hover {\n",
              "      background-color: #434B5C;\n",
              "      box-shadow: 0px 1px 3px 1px rgba(0, 0, 0, 0.15);\n",
              "      filter: drop-shadow(0px 1px 2px rgba(0, 0, 0, 0.3));\n",
              "      fill: #FFFFFF;\n",
              "    }\n",
              "  </style>\n",
              "\n",
              "      <script>\n",
              "        const buttonEl =\n",
              "          document.querySelector('#df-cc2b84d3-1a7a-4051-81ec-a6846537d7d2 button.colab-df-convert');\n",
              "        buttonEl.style.display =\n",
              "          google.colab.kernel.accessAllowed ? 'block' : 'none';\n",
              "\n",
              "        async function convertToInteractive(key) {\n",
              "          const element = document.querySelector('#df-cc2b84d3-1a7a-4051-81ec-a6846537d7d2');\n",
              "          const dataTable =\n",
              "            await google.colab.kernel.invokeFunction('convertToInteractive',\n",
              "                                                     [key], {});\n",
              "          if (!dataTable) return;\n",
              "\n",
              "          const docLinkHtml = 'Like what you see? Visit the ' +\n",
              "            '<a target=\"_blank\" href=https://colab.research.google.com/notebooks/data_table.ipynb>data table notebook</a>'\n",
              "            + ' to learn more about interactive tables.';\n",
              "          element.innerHTML = '';\n",
              "          dataTable['output_type'] = 'display_data';\n",
              "          await google.colab.output.renderOutput(dataTable, element);\n",
              "          const docLink = document.createElement('div');\n",
              "          docLink.innerHTML = docLinkHtml;\n",
              "          element.appendChild(docLink);\n",
              "        }\n",
              "      </script>\n",
              "    </div>\n",
              "  </div>\n",
              "  "
            ]
          },
          "metadata": {},
          "execution_count": 30
        }
      ]
    },
    {
      "cell_type": "markdown",
      "source": [
        "Making submission"
      ],
      "metadata": {
        "id": "8L9IQGO7hpqW"
      }
    },
    {
      "cell_type": "code",
      "source": [
        "submission = pd.DataFrame({\n",
        "        \"client_id\": sam_sub[\"client_id\"],\n",
        "        \"target\": preds[0]\n",
        "    })\n",
        "submission.to_csv('sam_sub_0.csv', index=False)"
      ],
      "metadata": {
        "id": "JVac89mOhsB_"
      },
      "execution_count": 38,
      "outputs": []
    },
    {
      "cell_type": "code",
      "source": [
        "submission.head()"
      ],
      "metadata": {
        "id": "SL9K3opPoJIa",
        "colab": {
          "base_uri": "https://localhost:8080/",
          "height": 206
        },
        "outputId": "39dd4bdc-b00e-4402-ac4a-bac7bd42cf1e"
      },
      "execution_count": 39,
      "outputs": [
        {
          "output_type": "execute_result",
          "data": {
            "text/plain": [
              "          client_id    target\n",
              "0     test_Client_0  0.996962\n",
              "1     test_Client_1  0.996047\n",
              "2    test_Client_10  0.995659\n",
              "3   test_Client_100  0.996405\n",
              "4  test_Client_1000  0.996669"
            ],
            "text/html": [
              "\n",
              "  <div id=\"df-076684d4-de59-4b4c-b836-9ac9e82aedb5\">\n",
              "    <div class=\"colab-df-container\">\n",
              "      <div>\n",
              "<style scoped>\n",
              "    .dataframe tbody tr th:only-of-type {\n",
              "        vertical-align: middle;\n",
              "    }\n",
              "\n",
              "    .dataframe tbody tr th {\n",
              "        vertical-align: top;\n",
              "    }\n",
              "\n",
              "    .dataframe thead th {\n",
              "        text-align: right;\n",
              "    }\n",
              "</style>\n",
              "<table border=\"1\" class=\"dataframe\">\n",
              "  <thead>\n",
              "    <tr style=\"text-align: right;\">\n",
              "      <th></th>\n",
              "      <th>client_id</th>\n",
              "      <th>target</th>\n",
              "    </tr>\n",
              "  </thead>\n",
              "  <tbody>\n",
              "    <tr>\n",
              "      <th>0</th>\n",
              "      <td>test_Client_0</td>\n",
              "      <td>0.996962</td>\n",
              "    </tr>\n",
              "    <tr>\n",
              "      <th>1</th>\n",
              "      <td>test_Client_1</td>\n",
              "      <td>0.996047</td>\n",
              "    </tr>\n",
              "    <tr>\n",
              "      <th>2</th>\n",
              "      <td>test_Client_10</td>\n",
              "      <td>0.995659</td>\n",
              "    </tr>\n",
              "    <tr>\n",
              "      <th>3</th>\n",
              "      <td>test_Client_100</td>\n",
              "      <td>0.996405</td>\n",
              "    </tr>\n",
              "    <tr>\n",
              "      <th>4</th>\n",
              "      <td>test_Client_1000</td>\n",
              "      <td>0.996669</td>\n",
              "    </tr>\n",
              "  </tbody>\n",
              "</table>\n",
              "</div>\n",
              "      <button class=\"colab-df-convert\" onclick=\"convertToInteractive('df-076684d4-de59-4b4c-b836-9ac9e82aedb5')\"\n",
              "              title=\"Convert this dataframe to an interactive table.\"\n",
              "              style=\"display:none;\">\n",
              "        \n",
              "  <svg xmlns=\"http://www.w3.org/2000/svg\" height=\"24px\"viewBox=\"0 0 24 24\"\n",
              "       width=\"24px\">\n",
              "    <path d=\"M0 0h24v24H0V0z\" fill=\"none\"/>\n",
              "    <path d=\"M18.56 5.44l.94 2.06.94-2.06 2.06-.94-2.06-.94-.94-2.06-.94 2.06-2.06.94zm-11 1L8.5 8.5l.94-2.06 2.06-.94-2.06-.94L8.5 2.5l-.94 2.06-2.06.94zm10 10l.94 2.06.94-2.06 2.06-.94-2.06-.94-.94-2.06-.94 2.06-2.06.94z\"/><path d=\"M17.41 7.96l-1.37-1.37c-.4-.4-.92-.59-1.43-.59-.52 0-1.04.2-1.43.59L10.3 9.45l-7.72 7.72c-.78.78-.78 2.05 0 2.83L4 21.41c.39.39.9.59 1.41.59.51 0 1.02-.2 1.41-.59l7.78-7.78 2.81-2.81c.8-.78.8-2.07 0-2.86zM5.41 20L4 18.59l7.72-7.72 1.47 1.35L5.41 20z\"/>\n",
              "  </svg>\n",
              "      </button>\n",
              "      \n",
              "  <style>\n",
              "    .colab-df-container {\n",
              "      display:flex;\n",
              "      flex-wrap:wrap;\n",
              "      gap: 12px;\n",
              "    }\n",
              "\n",
              "    .colab-df-convert {\n",
              "      background-color: #E8F0FE;\n",
              "      border: none;\n",
              "      border-radius: 50%;\n",
              "      cursor: pointer;\n",
              "      display: none;\n",
              "      fill: #1967D2;\n",
              "      height: 32px;\n",
              "      padding: 0 0 0 0;\n",
              "      width: 32px;\n",
              "    }\n",
              "\n",
              "    .colab-df-convert:hover {\n",
              "      background-color: #E2EBFA;\n",
              "      box-shadow: 0px 1px 2px rgba(60, 64, 67, 0.3), 0px 1px 3px 1px rgba(60, 64, 67, 0.15);\n",
              "      fill: #174EA6;\n",
              "    }\n",
              "\n",
              "    [theme=dark] .colab-df-convert {\n",
              "      background-color: #3B4455;\n",
              "      fill: #D2E3FC;\n",
              "    }\n",
              "\n",
              "    [theme=dark] .colab-df-convert:hover {\n",
              "      background-color: #434B5C;\n",
              "      box-shadow: 0px 1px 3px 1px rgba(0, 0, 0, 0.15);\n",
              "      filter: drop-shadow(0px 1px 2px rgba(0, 0, 0, 0.3));\n",
              "      fill: #FFFFFF;\n",
              "    }\n",
              "  </style>\n",
              "\n",
              "      <script>\n",
              "        const buttonEl =\n",
              "          document.querySelector('#df-076684d4-de59-4b4c-b836-9ac9e82aedb5 button.colab-df-convert');\n",
              "        buttonEl.style.display =\n",
              "          google.colab.kernel.accessAllowed ? 'block' : 'none';\n",
              "\n",
              "        async function convertToInteractive(key) {\n",
              "          const element = document.querySelector('#df-076684d4-de59-4b4c-b836-9ac9e82aedb5');\n",
              "          const dataTable =\n",
              "            await google.colab.kernel.invokeFunction('convertToInteractive',\n",
              "                                                     [key], {});\n",
              "          if (!dataTable) return;\n",
              "\n",
              "          const docLinkHtml = 'Like what you see? Visit the ' +\n",
              "            '<a target=\"_blank\" href=https://colab.research.google.com/notebooks/data_table.ipynb>data table notebook</a>'\n",
              "            + ' to learn more about interactive tables.';\n",
              "          element.innerHTML = '';\n",
              "          dataTable['output_type'] = 'display_data';\n",
              "          await google.colab.output.renderOutput(dataTable, element);\n",
              "          const docLink = document.createElement('div');\n",
              "          docLink.innerHTML = docLinkHtml;\n",
              "          element.appendChild(docLink);\n",
              "        }\n",
              "      </script>\n",
              "    </div>\n",
              "  </div>\n",
              "  "
            ]
          },
          "metadata": {},
          "execution_count": 39
        }
      ]
    },
    {
      "cell_type": "code",
      "source": [
        "submission = pd.DataFrame({\n",
        "        \"client_id\": sam_sub[\"client_id\"],\n",
        "        \"target\": preds[1]\n",
        "    })\n",
        "submission.to_csv('sam_sub_1.csv', index=False)"
      ],
      "metadata": {
        "id": "YA5FzOgstjX8"
      },
      "execution_count": 40,
      "outputs": []
    },
    {
      "cell_type": "code",
      "source": [
        "submission.head()"
      ],
      "metadata": {
        "id": "dBFnUPLot98I",
        "colab": {
          "base_uri": "https://localhost:8080/",
          "height": 206
        },
        "outputId": "9cf58d11-297e-45f0-8986-6ed3d35a4ff7"
      },
      "execution_count": 41,
      "outputs": [
        {
          "output_type": "execute_result",
          "data": {
            "text/plain": [
              "          client_id    target\n",
              "0     test_Client_0  0.003038\n",
              "1     test_Client_1  0.003953\n",
              "2    test_Client_10  0.004341\n",
              "3   test_Client_100  0.003595\n",
              "4  test_Client_1000  0.003331"
            ],
            "text/html": [
              "\n",
              "  <div id=\"df-3d518b72-43b8-4382-86d7-e1a2e8eae618\">\n",
              "    <div class=\"colab-df-container\">\n",
              "      <div>\n",
              "<style scoped>\n",
              "    .dataframe tbody tr th:only-of-type {\n",
              "        vertical-align: middle;\n",
              "    }\n",
              "\n",
              "    .dataframe tbody tr th {\n",
              "        vertical-align: top;\n",
              "    }\n",
              "\n",
              "    .dataframe thead th {\n",
              "        text-align: right;\n",
              "    }\n",
              "</style>\n",
              "<table border=\"1\" class=\"dataframe\">\n",
              "  <thead>\n",
              "    <tr style=\"text-align: right;\">\n",
              "      <th></th>\n",
              "      <th>client_id</th>\n",
              "      <th>target</th>\n",
              "    </tr>\n",
              "  </thead>\n",
              "  <tbody>\n",
              "    <tr>\n",
              "      <th>0</th>\n",
              "      <td>test_Client_0</td>\n",
              "      <td>0.003038</td>\n",
              "    </tr>\n",
              "    <tr>\n",
              "      <th>1</th>\n",
              "      <td>test_Client_1</td>\n",
              "      <td>0.003953</td>\n",
              "    </tr>\n",
              "    <tr>\n",
              "      <th>2</th>\n",
              "      <td>test_Client_10</td>\n",
              "      <td>0.004341</td>\n",
              "    </tr>\n",
              "    <tr>\n",
              "      <th>3</th>\n",
              "      <td>test_Client_100</td>\n",
              "      <td>0.003595</td>\n",
              "    </tr>\n",
              "    <tr>\n",
              "      <th>4</th>\n",
              "      <td>test_Client_1000</td>\n",
              "      <td>0.003331</td>\n",
              "    </tr>\n",
              "  </tbody>\n",
              "</table>\n",
              "</div>\n",
              "      <button class=\"colab-df-convert\" onclick=\"convertToInteractive('df-3d518b72-43b8-4382-86d7-e1a2e8eae618')\"\n",
              "              title=\"Convert this dataframe to an interactive table.\"\n",
              "              style=\"display:none;\">\n",
              "        \n",
              "  <svg xmlns=\"http://www.w3.org/2000/svg\" height=\"24px\"viewBox=\"0 0 24 24\"\n",
              "       width=\"24px\">\n",
              "    <path d=\"M0 0h24v24H0V0z\" fill=\"none\"/>\n",
              "    <path d=\"M18.56 5.44l.94 2.06.94-2.06 2.06-.94-2.06-.94-.94-2.06-.94 2.06-2.06.94zm-11 1L8.5 8.5l.94-2.06 2.06-.94-2.06-.94L8.5 2.5l-.94 2.06-2.06.94zm10 10l.94 2.06.94-2.06 2.06-.94-2.06-.94-.94-2.06-.94 2.06-2.06.94z\"/><path d=\"M17.41 7.96l-1.37-1.37c-.4-.4-.92-.59-1.43-.59-.52 0-1.04.2-1.43.59L10.3 9.45l-7.72 7.72c-.78.78-.78 2.05 0 2.83L4 21.41c.39.39.9.59 1.41.59.51 0 1.02-.2 1.41-.59l7.78-7.78 2.81-2.81c.8-.78.8-2.07 0-2.86zM5.41 20L4 18.59l7.72-7.72 1.47 1.35L5.41 20z\"/>\n",
              "  </svg>\n",
              "      </button>\n",
              "      \n",
              "  <style>\n",
              "    .colab-df-container {\n",
              "      display:flex;\n",
              "      flex-wrap:wrap;\n",
              "      gap: 12px;\n",
              "    }\n",
              "\n",
              "    .colab-df-convert {\n",
              "      background-color: #E8F0FE;\n",
              "      border: none;\n",
              "      border-radius: 50%;\n",
              "      cursor: pointer;\n",
              "      display: none;\n",
              "      fill: #1967D2;\n",
              "      height: 32px;\n",
              "      padding: 0 0 0 0;\n",
              "      width: 32px;\n",
              "    }\n",
              "\n",
              "    .colab-df-convert:hover {\n",
              "      background-color: #E2EBFA;\n",
              "      box-shadow: 0px 1px 2px rgba(60, 64, 67, 0.3), 0px 1px 3px 1px rgba(60, 64, 67, 0.15);\n",
              "      fill: #174EA6;\n",
              "    }\n",
              "\n",
              "    [theme=dark] .colab-df-convert {\n",
              "      background-color: #3B4455;\n",
              "      fill: #D2E3FC;\n",
              "    }\n",
              "\n",
              "    [theme=dark] .colab-df-convert:hover {\n",
              "      background-color: #434B5C;\n",
              "      box-shadow: 0px 1px 3px 1px rgba(0, 0, 0, 0.15);\n",
              "      filter: drop-shadow(0px 1px 2px rgba(0, 0, 0, 0.3));\n",
              "      fill: #FFFFFF;\n",
              "    }\n",
              "  </style>\n",
              "\n",
              "      <script>\n",
              "        const buttonEl =\n",
              "          document.querySelector('#df-3d518b72-43b8-4382-86d7-e1a2e8eae618 button.colab-df-convert');\n",
              "        buttonEl.style.display =\n",
              "          google.colab.kernel.accessAllowed ? 'block' : 'none';\n",
              "\n",
              "        async function convertToInteractive(key) {\n",
              "          const element = document.querySelector('#df-3d518b72-43b8-4382-86d7-e1a2e8eae618');\n",
              "          const dataTable =\n",
              "            await google.colab.kernel.invokeFunction('convertToInteractive',\n",
              "                                                     [key], {});\n",
              "          if (!dataTable) return;\n",
              "\n",
              "          const docLinkHtml = 'Like what you see? Visit the ' +\n",
              "            '<a target=\"_blank\" href=https://colab.research.google.com/notebooks/data_table.ipynb>data table notebook</a>'\n",
              "            + ' to learn more about interactive tables.';\n",
              "          element.innerHTML = '';\n",
              "          dataTable['output_type'] = 'display_data';\n",
              "          await google.colab.output.renderOutput(dataTable, element);\n",
              "          const docLink = document.createElement('div');\n",
              "          docLink.innerHTML = docLinkHtml;\n",
              "          element.appendChild(docLink);\n",
              "        }\n",
              "      </script>\n",
              "    </div>\n",
              "  </div>\n",
              "  "
            ]
          },
          "metadata": {},
          "execution_count": 41
        }
      ]
    }
  ]
}